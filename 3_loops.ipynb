{
 "cells": [
  {
   "cell_type": "markdown",
   "metadata": {},
   "source": [
    "### Challenge 3a: Loops\n",
    "\n",
    "Given the following loop:\n",
    "\n",
    "```\n",
    "word = 'oxygen'\n",
    "for char in word:\n",
    "    print(char)\n",
    "```\n",
    "\n",
    "How many times is the body of the loop executed?\n",
    "\n",
    "- 3 times\n",
    "- 4 times\n",
    "- 5 times\n",
    "- 6 times\n",
    "\n",
    "### Challenge 3b: Loops\n",
    "Design a ```for``` loop to iterate through the ```all_formatted``` list and print the values of each item in ```web_urls```? \n",
    "\n",
    "*Hint: You should be able to do this with only two lines of code. The first line starts the for loop, and the second line says what to print.*"
   ]
  },
  {
   "cell_type": "code",
   "execution_count": null,
   "metadata": {},
   "outputs": [],
   "source": []
  }
 ],
 "metadata": {
  "kernelspec": {
   "display_name": "Python 3",
   "language": "python",
   "name": "python3"
  },
  "language_info": {
   "codemirror_mode": {
    "name": "ipython",
    "version": 3
   },
   "file_extension": ".py",
   "mimetype": "text/x-python",
   "name": "python",
   "nbconvert_exporter": "python",
   "pygments_lexer": "ipython3",
   "version": "3.7.2"
  }
 },
 "nbformat": 4,
 "nbformat_minor": 2
}
