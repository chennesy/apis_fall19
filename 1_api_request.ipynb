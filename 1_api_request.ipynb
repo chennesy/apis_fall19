{
 "cells": [
  {
   "cell_type": "markdown",
   "metadata": {},
   "source": [
    "### Challenge 1: Build your NYT API request\n",
    "Let's apply what we've learned about Python and the Requests library to the NY Times API.\n",
    "\n",
    "1. Create a variable called nyt_articles, and use requests.get to make an API call to the NY Times.\n",
    "2. Make sure the URL includes your:\n",
    " - keywords (```q=```)\n",
    " - the ```begin_date``` and ```end_date``` filters to make sure you don't go over your daily limit\n",
    " - your API key (```api-key=```)\n",
    " \n",
    "Check out the [Developer site for an example URL](https://developer.nytimes.com/docs/articlesearch-product/1/overview).\n",
    "\n",
    "Bonus points if you can separate different filters out into their own variables and concatenate the full URL using the plus sign!"
   ]
  },
  {
   "cell_type": "code",
   "execution_count": null,
   "metadata": {},
   "outputs": [],
   "source": []
  }
 ],
 "metadata": {
  "kernelspec": {
   "display_name": "Python 3",
   "language": "python",
   "name": "python3"
  },
  "language_info": {
   "codemirror_mode": {
    "name": "ipython",
    "version": 3
   },
   "file_extension": ".py",
   "mimetype": "text/x-python",
   "name": "python",
   "nbconvert_exporter": "python",
   "pygments_lexer": "ipython3",
   "version": "3.7.2"
  }
 },
 "nbformat": 4,
 "nbformat_minor": 2
}
