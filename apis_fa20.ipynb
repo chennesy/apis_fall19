{
 "cells": [
  {
   "cell_type": "markdown",
   "metadata": {},
   "source": [
    "## Introduction to Web APIs in Python\n",
    "- UMN LATIS & Libraries workshop, Oct 30 2020\n",
    "- Cody Hennesy (chennesy@umn.edu) and Michael Beckstrand (mjbeckst@umn.edu)\n",
    "\n",
    "In this workshop we’ll use Python to query and download data using the NY Times API.\n",
    "\n",
    "This workshop will cover how to:\n",
    "* Use Python 3 in a JupyterLab computing environment\n",
    "* Read API documentation to build successful API queries\n",
    "* Use the Requests and JSON Python libraries to download data from the NY Times API\n",
    "* Use built-in Python functions such as type, len, and dir to explore API data\n",
    "* Explore API data in Python using dictionaries\n",
    "\n",
    "Credits: Content for this workshop was adapted from the [DHSI 2019 APIs class](https://github.com/szweibel/DHSI-API-workshop) and from [Software Carpentry Python lessons](http://swcarpentry.github.io/python-novice-inflammation/).\n",
    "\n",
    "### Why Python? \n",
    "- Reproducibility\n",
    "- Repeatable\n",
    "- Extensible - popular libraries (packages such as pandas, matplotlib)\n",
    "- Great for data access and data cleaning\n",
    "\n",
    "### What's Jupyter?\n",
    "- Web-based, so easy to share\n",
    "- Easy to read, easy to run\n",
    "- Run code piece by piece\n",
    "\n",
    "### Brief intro to Python and Jupyter\n",
    "- You can use Python as a calculator. \n",
    "- To \"run\" a Jupyter cell hold down shift and select Return/Enter, or choose the \"play icon\" (right-facing triangle) from the Jupyter menu above. "
   ]
  },
  {
   "cell_type": "code",
   "execution_count": 1,
   "metadata": {},
   "outputs": [
    {
     "data": {
      "text/plain": [
       "17"
      ]
     },
     "execution_count": 1,
     "metadata": {},
     "output_type": "execute_result"
    }
   ],
   "source": [
    "2 + 3 * 5"
   ]
  },
  {
   "cell_type": "markdown",
   "metadata": {},
   "source": [
    "But to do more interesting things, we will want to assign values to *variables*."
   ]
  },
  {
   "cell_type": "code",
   "execution_count": 2,
   "metadata": {},
   "outputs": [],
   "source": [
    "weight_kg = 60"
   ]
  },
  {
   "cell_type": "code",
   "execution_count": 3,
   "metadata": {},
   "outputs": [
    {
     "name": "stdout",
     "output_type": "stream",
     "text": [
      "60\n"
     ]
    }
   ],
   "source": [
    "print(weight_kg)"
   ]
  },
  {
   "cell_type": "markdown",
   "metadata": {},
   "source": [
    "In Python, variable names:\n",
    "\n",
    "* can include letters, digits, and underscores\n",
    "* cannot start with a digit\n",
    "* are case sensitive."
   ]
  },
  {
   "cell_type": "markdown",
   "metadata": {},
   "source": [
    "You can do calculations while printing:"
   ]
  },
  {
   "cell_type": "code",
   "execution_count": 4,
   "metadata": {},
   "outputs": [
    {
     "name": "stdout",
     "output_type": "stream",
     "text": [
      "132.0\n"
     ]
    }
   ],
   "source": [
    "print(2.2 * weight_kg)"
   ]
  },
  {
   "cell_type": "markdown",
   "metadata": {},
   "source": [
    "But it might make more sense to create a variable to help out:"
   ]
  },
  {
   "cell_type": "code",
   "execution_count": 5,
   "metadata": {},
   "outputs": [],
   "source": [
    "weight_lb = 2.2 * weight_kg"
   ]
  },
  {
   "cell_type": "code",
   "execution_count": 6,
   "metadata": {},
   "outputs": [
    {
     "name": "stdout",
     "output_type": "stream",
     "text": [
      "132.0\n"
     ]
    }
   ],
   "source": [
    "print(weight_lb)"
   ]
  },
  {
   "cell_type": "code",
   "execution_count": 7,
   "metadata": {},
   "outputs": [
    {
     "name": "stdout",
     "output_type": "stream",
     "text": [
      "60\n"
     ]
    }
   ],
   "source": [
    "print(weight_kg)"
   ]
  },
  {
   "cell_type": "code",
   "execution_count": 8,
   "metadata": {},
   "outputs": [
    {
     "name": "stdout",
     "output_type": "stream",
     "text": [
      "weight in kilograms is now: 65.0\n",
      "weight in lbs is:  132.0\n"
     ]
    }
   ],
   "source": [
    "weight_kg = 65.0\n",
    "print('kg:', weight_kg)\n",
    "print('lbs: ', weight_lb)"
   ]
  },
  {
   "cell_type": "markdown",
   "metadata": {},
   "source": [
    "Oh no, what happened? The weight in pounds didn't update?\n",
    "\n",
    "You need to re-assign the variable. So variables aren't always a very good way to deal with changing values."
   ]
  },
  {
   "cell_type": "code",
   "execution_count": 9,
   "metadata": {},
   "outputs": [
    {
     "name": "stdout",
     "output_type": "stream",
     "text": [
      "lbs:  143.0\n"
     ]
    }
   ],
   "source": [
    "weight_lb = 2.2 * weight_kg\n",
    "print('lbs: ', weight_lb)"
   ]
  },
  {
   "cell_type": "markdown",
   "metadata": {},
   "source": [
    "### String concatenation\n",
    "\n",
    "Be careful though: you can also concatenate strings together using a plus sign, so the + operator has multiple uses."
   ]
  },
  {
   "cell_type": "code",
   "execution_count": 10,
   "metadata": {},
   "outputs": [
    {
     "name": "stdout",
     "output_type": "stream",
     "text": [
      "http://google.com/search?q=ada lovelace\n"
     ]
    }
   ],
   "source": [
    "base_url = \"http://google.com/search?q=\"\n",
    "query = \"ada lovelace\"\n",
    "search = base_url + query\n",
    "print(search)"
   ]
  },
  {
   "cell_type": "markdown",
   "metadata": {},
   "source": [
    "## Importing Libraries"
   ]
  },
  {
   "cell_type": "code",
   "execution_count": 11,
   "metadata": {},
   "outputs": [],
   "source": [
    "import requests"
   ]
  },
  {
   "cell_type": "markdown",
   "metadata": {},
   "source": [
    "Importing a library is like getting a piece of lab equipment out of a storage locker and setting it up on the bench. Libraries provide additional functionality to the basic Python package, much like a new piece of equipment adds functionality to a lab space. Just like in the lab, importing too many libraries can sometimes complicate and slow down your programs - so we only import what we need for each program."
   ]
  },
  {
   "cell_type": "code",
   "execution_count": 12,
   "metadata": {},
   "outputs": [
    {
     "data": {
      "text/plain": [
       "<Response [200]>"
      ]
     },
     "execution_count": 12,
     "metadata": {},
     "output_type": "execute_result"
    }
   ],
   "source": [
    "requests.get('https://lib.umn.edu')"
   ]
  },
  {
   "cell_type": "markdown",
   "metadata": {},
   "source": [
    "### Libraries and functions\n",
    "The expression ```requests.get(...)``` is a function call that asks Python to run the function ```get``` which belongs to the ```requests``` library. \n",
    "\n",
    "This dotted notation is used everywhere in Python: the thing that appears before the dot contains the thing that appears after.\n",
    "\n",
    "As an example, we could use the dot notation to write the relationship between Minneapolis and Minnesota as ```Minnesota.Minneapolis```, just as *get* is a function that belongs to the *requests* library.\n",
    "\n",
    "#### What did we do above?\n",
    "1. Created a Python HTTP request object for a GET\n",
    "2. Send the HTTP request to webserver at lib.umn.edu\n",
    "3. Received the response ```[200]``` from lib.umn.edu - [what's that mean?](https://en.wikipedia.org/wiki/List_of_HTTP_status_codes)"
   ]
  },
  {
   "cell_type": "markdown",
   "metadata": {},
   "source": [
    "In Jupyter notebooks using Python you can explore functions of a library using the *tab* key.\n",
    "\n",
    "And to understand each function you can get information by putting a question mark after it:"
   ]
  },
  {
   "cell_type": "code",
   "execution_count": 13,
   "metadata": {},
   "outputs": [
    {
     "data": {
      "text/plain": [
       "\u001b[0;31mSignature:\u001b[0m \u001b[0mrequests\u001b[0m\u001b[0;34m.\u001b[0m\u001b[0mget\u001b[0m\u001b[0;34m(\u001b[0m\u001b[0murl\u001b[0m\u001b[0;34m,\u001b[0m \u001b[0mparams\u001b[0m\u001b[0;34m=\u001b[0m\u001b[0;32mNone\u001b[0m\u001b[0;34m,\u001b[0m \u001b[0;34m**\u001b[0m\u001b[0mkwargs\u001b[0m\u001b[0;34m)\u001b[0m\u001b[0;34m\u001b[0m\u001b[0m\n",
       "\u001b[0;31mDocstring:\u001b[0m\n",
       "Sends a GET request.\n",
       "\n",
       ":param url: URL for the new :class:`Request` object.\n",
       ":param params: (optional) Dictionary or bytes to be sent in the query string for the :class:`Request`.\n",
       ":param \\*\\*kwargs: Optional arguments that ``request`` takes.\n",
       ":return: :class:`Response <Response>` object\n",
       ":rtype: requests.Response\n",
       "\u001b[0;31mFile:\u001b[0m      /anaconda3/lib/python3.7/site-packages/requests/api.py\n",
       "\u001b[0;31mType:\u001b[0m      function\n"
      ]
     },
     "metadata": {},
     "output_type": "display_data"
    }
   ],
   "source": [
    "requests.get?"
   ]
  },
  {
   "cell_type": "markdown",
   "metadata": {},
   "source": [
    "You can store the data that is returned from the get request in a variable:"
   ]
  },
  {
   "cell_type": "code",
   "execution_count": 14,
   "metadata": {},
   "outputs": [
    {
     "name": "stdout",
     "output_type": "stream",
     "text": [
      "<Response [200]>\n"
     ]
    }
   ],
   "source": [
    "umn_site = requests.get('https://lib.umn.edu')\n",
    "print(umn_site)"
   ]
  },
  {
   "cell_type": "markdown",
   "metadata": {},
   "source": [
    "Now you can explore the attributes of the data object, umn_site, using the same dot notation. Use tab to explore the options, and the question mark to read more about the attribute.\n",
    "\n",
    "```umn_site.text```, for example."
   ]
  },
  {
   "cell_type": "code",
   "execution_count": null,
   "metadata": {},
   "outputs": [],
   "source": [
    "#print(umn_site.headers)"
   ]
  },
  {
   "cell_type": "markdown",
   "metadata": {},
   "source": [
    "### NYT API request\n",
    "Let's apply what we've learned about Python and the Requests library to the NY Times API.\n",
    "\n",
    "1. Create a variable called nyt_articles, and use requests.get to make an API call to the NY Times.\n",
    "2. Make sure the URL includes your:\n",
    " - keywords (```q=```)\n",
    " - the ```begin_date``` and ```end_date``` filters to make sure you don't go over your daily limit\n",
    " - your API key (```api-key=```)\n",
    " \n",
    "Check out the [Developer site for an example URL](https://developer.nytimes.com/docs/articlesearch-product/1/overview).\n",
    "\n",
    "We can also separate different filters out into their own variables and concatenate the full URL using the plus sign!"
   ]
  },
  {
   "cell_type": "code",
   "execution_count": 15,
   "metadata": {},
   "outputs": [],
   "source": [
    "nyt_articles = requests.get(\"http://api.nytimes.com/svc/search/v2/articlesearch.json?q=facebook&api-key=[INSERTKEY]&begin_date=20190101&end_date=20190102\")"
   ]
  },
  {
   "cell_type": "code",
   "execution_count": 16,
   "metadata": {},
   "outputs": [],
   "source": [
    "base_url = \"http://api.nytimes.com/svc/search/v2/articlesearch.json?\"\n",
    "query = \"q=facebook\"\n",
    "api_key = \"&api-key=[INSERTKEY]\"\n",
    "dates = \"&begin_date=20190101&end_date=20190102\"\n",
    "\n",
    "url = base_url+query+api_key+dates"
   ]
  },
  {
   "cell_type": "code",
   "execution_count": 17,
   "metadata": {},
   "outputs": [],
   "source": [
    "nyt_articles = requests.get(url)"
   ]
  },
  {
   "cell_type": "markdown",
   "metadata": {},
   "source": [
    "We can use a built in Python function called type() to explore the results."
   ]
  },
  {
   "cell_type": "code",
   "execution_count": 18,
   "metadata": {},
   "outputs": [
    {
     "data": {
      "text/plain": [
       "requests.models.Response"
      ]
     },
     "execution_count": 18,
     "metadata": {},
     "output_type": "execute_result"
    }
   ],
   "source": [
    "type(nyt_articles)"
   ]
  },
  {
   "cell_type": "markdown",
   "metadata": {},
   "source": [
    "This means that nyt_articles is a Response object as defined in the requests library. But what is a Python object? And what can we do with it?\n",
    "\n",
    "Objects in Python (and other programming languages) are basically containers that can hold data and/or functions inside them. When a function is inside an object, we usually call the function a \"method.\" When data is inside an object, we usually call it an \"attribute.\" The terminology isn't that important, though. What we do need to know is that you can access these \"methods\" and \"attributes\" with a . (a dot or period).\n",
    "\n",
    "### Explore the NYT API Response object\n",
    "- We stored the requests response from the NY Times API in a variable called ```nyt_articles.```\n",
    "- Let's use Jupyter's tab autocomplete feature after the variable (```nyt_articles.```) to explore the different attributes of the response object. "
   ]
  },
  {
   "cell_type": "code",
   "execution_count": 20,
   "metadata": {},
   "outputs": [],
   "source": [
    "#nyt_articles.text"
   ]
  },
  {
   "cell_type": "markdown",
   "metadata": {},
   "source": [
    "When you encounter an object, how can you learn its methods and atributes so you can use them? There are two main ways. The first, and likely the most practical, is to read the documentation of the library you're using.\n",
    "\n",
    "It often happens, though, that the docs for a library you're using are confusing, nonexistent, or inaccurate. In these cases, you can try using the dir() function, which will tell you which methods and attributes are available in an object.\n",
    "\n",
    "When using dir(), you'll mostly want to ignore the methods and attributes that have underscores around them. They mainly have to do with the internals of the Python language."
   ]
  },
  {
   "cell_type": "code",
   "execution_count": 21,
   "metadata": {},
   "outputs": [
    {
     "data": {
      "text/plain": [
       "['__attrs__',\n",
       " '__bool__',\n",
       " '__class__',\n",
       " '__delattr__',\n",
       " '__dict__',\n",
       " '__dir__',\n",
       " '__doc__',\n",
       " '__enter__',\n",
       " '__eq__',\n",
       " '__exit__',\n",
       " '__format__',\n",
       " '__ge__',\n",
       " '__getattribute__',\n",
       " '__getstate__',\n",
       " '__gt__',\n",
       " '__hash__',\n",
       " '__init__',\n",
       " '__init_subclass__',\n",
       " '__iter__',\n",
       " '__le__',\n",
       " '__lt__',\n",
       " '__module__',\n",
       " '__ne__',\n",
       " '__new__',\n",
       " '__nonzero__',\n",
       " '__reduce__',\n",
       " '__reduce_ex__',\n",
       " '__repr__',\n",
       " '__setattr__',\n",
       " '__setstate__',\n",
       " '__sizeof__',\n",
       " '__str__',\n",
       " '__subclasshook__',\n",
       " '__weakref__',\n",
       " '_content',\n",
       " '_content_consumed',\n",
       " '_next',\n",
       " 'apparent_encoding',\n",
       " 'close',\n",
       " 'connection',\n",
       " 'content',\n",
       " 'cookies',\n",
       " 'elapsed',\n",
       " 'encoding',\n",
       " 'headers',\n",
       " 'history',\n",
       " 'is_permanent_redirect',\n",
       " 'is_redirect',\n",
       " 'iter_content',\n",
       " 'iter_lines',\n",
       " 'json',\n",
       " 'links',\n",
       " 'next',\n",
       " 'ok',\n",
       " 'raise_for_status',\n",
       " 'raw',\n",
       " 'reason',\n",
       " 'request',\n",
       " 'status_code',\n",
       " 'text',\n",
       " 'url']"
      ]
     },
     "execution_count": 21,
     "metadata": {},
     "output_type": "execute_result"
    }
   ],
   "source": [
    "dir(nyt_articles)"
   ]
  },
  {
   "cell_type": "markdown",
   "metadata": {},
   "source": [
    "### Working with JSON and dictionaries\n",
    "Let's import the json python library to be able to dig more deeply into the data we acquired from the NY Times."
   ]
  },
  {
   "cell_type": "code",
   "execution_count": 22,
   "metadata": {},
   "outputs": [],
   "source": [
    "import json"
   ]
  },
  {
   "cell_type": "markdown",
   "metadata": {},
   "source": [
    "json includes a function called ```.loads``` that we can use to assign the json data to something called a Python dictionary.\n",
    "\n",
    "Let's create a variable to hold the dictionary, and then apply json.loads to our nyt_articles.text."
   ]
  },
  {
   "cell_type": "code",
   "execution_count": 23,
   "metadata": {},
   "outputs": [],
   "source": [
    "articles_dict = json.loads(nyt_articles.text)"
   ]
  },
  {
   "cell_type": "markdown",
   "metadata": {},
   "source": [
    "We can see that the results are something called a dict, by using our old friend type()."
   ]
  },
  {
   "cell_type": "code",
   "execution_count": 24,
   "metadata": {},
   "outputs": [
    {
     "data": {
      "text/plain": [
       "dict"
      ]
     },
     "execution_count": 24,
     "metadata": {},
     "output_type": "execute_result"
    }
   ],
   "source": [
    "type(articles_dict)"
   ]
  },
  {
   "cell_type": "markdown",
   "metadata": {},
   "source": [
    "### Python Dictionaries \n",
    "\n",
    "A Python dictionary is a way to hold an unordered list of items, using something called a 'key:value' pair.\n",
    "\n",
    "You can create an empty dictionary using curly brackets:"
   ]
  },
  {
   "cell_type": "code",
   "execution_count": 25,
   "metadata": {},
   "outputs": [],
   "source": [
    "my_dictionary = {}"
   ]
  },
  {
   "cell_type": "markdown",
   "metadata": {},
   "source": [
    "Or you could manually assign it keys and values, like so:"
   ]
  },
  {
   "cell_type": "code",
   "execution_count": 26,
   "metadata": {},
   "outputs": [
    {
     "data": {
      "text/plain": [
       "{'Monday': 'Apples', 'Tuesday': 'Oranges'}"
      ]
     },
     "execution_count": 26,
     "metadata": {},
     "output_type": "execute_result"
    }
   ],
   "source": [
    "my_dictionary = {'Monday':'Apples', 'Tuesday':'Oranges'} \n",
    "my_dictionary"
   ]
  },
  {
   "cell_type": "code",
   "execution_count": 27,
   "metadata": {},
   "outputs": [
    {
     "data": {
      "text/plain": [
       "dict_keys(['Monday', 'Tuesday'])"
      ]
     },
     "execution_count": 27,
     "metadata": {},
     "output_type": "execute_result"
    }
   ],
   "source": [
    "my_dictionary.keys()"
   ]
  },
  {
   "cell_type": "code",
   "execution_count": 28,
   "metadata": {},
   "outputs": [
    {
     "data": {
      "text/plain": [
       "dict_values(['Apples', 'Oranges'])"
      ]
     },
     "execution_count": 28,
     "metadata": {},
     "output_type": "execute_result"
    }
   ],
   "source": [
    "my_dictionary.values()"
   ]
  },
  {
   "cell_type": "code",
   "execution_count": 30,
   "metadata": {},
   "outputs": [],
   "source": [
    "articles_dict"
   ]
  },
  {
   "cell_type": "markdown",
   "metadata": {},
   "source": [
    "You can explore the keys of any dictionary using the notation:\n",
    "\n",
    "```my_dict.keys()```"
   ]
  },
  {
   "cell_type": "code",
   "execution_count": 31,
   "metadata": {},
   "outputs": [
    {
     "data": {
      "text/plain": [
       "dict_keys(['status', 'copyright', 'response'])"
      ]
     },
     "execution_count": 31,
     "metadata": {},
     "output_type": "execute_result"
    }
   ],
   "source": [
    "articles_dict.keys()"
   ]
  },
  {
   "cell_type": "markdown",
   "metadata": {},
   "source": [
    "You can look at the value of a specific key using square brackets:\n",
    "\n",
    "```my_dict['key_name']```"
   ]
  },
  {
   "cell_type": "code",
   "execution_count": 32,
   "metadata": {},
   "outputs": [
    {
     "data": {
      "text/plain": [
       "'OK'"
      ]
     },
     "execution_count": 32,
     "metadata": {},
     "output_type": "execute_result"
    }
   ],
   "source": [
    "articles_dict['status']"
   ]
  },
  {
   "cell_type": "code",
   "execution_count": 33,
   "metadata": {},
   "outputs": [
    {
     "data": {
      "text/plain": [
       "'Copyright (c) 2020 The New York Times Company. All Rights Reserved.'"
      ]
     },
     "execution_count": 33,
     "metadata": {},
     "output_type": "execute_result"
    }
   ],
   "source": [
    "articles_dict['copyright']"
   ]
  },
  {
   "cell_type": "code",
   "execution_count": 35,
   "metadata": {},
   "outputs": [],
   "source": [
    "articles_dict['response']"
   ]
  },
  {
   "cell_type": "markdown",
   "metadata": {},
   "source": [
    "Wait a minute - that's a ton of information in a format we've seen before. \n",
    "\n",
    "Let's check out what type of object is inside of the response object value of this dictionary:"
   ]
  },
  {
   "cell_type": "code",
   "execution_count": 36,
   "metadata": {},
   "outputs": [
    {
     "data": {
      "text/plain": [
       "dict"
      ]
     },
     "execution_count": 36,
     "metadata": {},
     "output_type": "execute_result"
    }
   ],
   "source": [
    "type(articles_dict['response'])"
   ]
  },
  {
   "cell_type": "markdown",
   "metadata": {},
   "source": [
    "Whoa, it's a dictionary inside a dictionary. So now we can explore the keys and values in the response object."
   ]
  },
  {
   "cell_type": "code",
   "execution_count": 37,
   "metadata": {},
   "outputs": [
    {
     "data": {
      "text/plain": [
       "dict_keys(['docs', 'meta'])"
      ]
     },
     "execution_count": 37,
     "metadata": {},
     "output_type": "execute_result"
    }
   ],
   "source": [
    "articles_dict['response'].keys()"
   ]
  },
  {
   "cell_type": "markdown",
   "metadata": {},
   "source": [
    "To look deeper inside of the dictionary object, we can just add another bracketed statement pointing to the key."
   ]
  },
  {
   "cell_type": "code",
   "execution_count": 38,
   "metadata": {},
   "outputs": [
    {
     "data": {
      "text/plain": [
       "{'hits': 36, 'offset': 0, 'time': 37}"
      ]
     },
     "execution_count": 38,
     "metadata": {},
     "output_type": "execute_result"
    }
   ],
   "source": [
    "articles_dict['response']['meta']"
   ]
  },
  {
   "cell_type": "code",
   "execution_count": null,
   "metadata": {},
   "outputs": [],
   "source": [
    "#articles_dict['response']['docs']"
   ]
  },
  {
   "cell_type": "markdown",
   "metadata": {},
   "source": [
    "Ok, so here's the content we want - the metadata about the actual articles! Let's assign this all to another variable so that it's a little easier to work with going forward."
   ]
  },
  {
   "cell_type": "code",
   "execution_count": 39,
   "metadata": {},
   "outputs": [],
   "source": [
    "articles_all = articles_dict['response']['docs']"
   ]
  },
  {
   "cell_type": "code",
   "execution_count": 40,
   "metadata": {},
   "outputs": [
    {
     "ename": "AttributeError",
     "evalue": "'list' object has no attribute 'keys'",
     "output_type": "error",
     "traceback": [
      "\u001b[0;31m---------------------------------------------------------------------------\u001b[0m",
      "\u001b[0;31mAttributeError\u001b[0m                            Traceback (most recent call last)",
      "\u001b[0;32m<ipython-input-40-7e1e7348ea08>\u001b[0m in \u001b[0;36m<module>\u001b[0;34m()\u001b[0m\n\u001b[0;32m----> 1\u001b[0;31m \u001b[0marticles_all\u001b[0m\u001b[0;34m.\u001b[0m\u001b[0mkeys\u001b[0m\u001b[0;34m(\u001b[0m\u001b[0;34m)\u001b[0m\u001b[0;34m\u001b[0m\u001b[0m\n\u001b[0m",
      "\u001b[0;31mAttributeError\u001b[0m: 'list' object has no attribute 'keys'"
     ]
    }
   ],
   "source": [
    "articles_all.keys()"
   ]
  },
  {
   "cell_type": "markdown",
   "metadata": {},
   "source": [
    "Why can't we look at the keys for the articles? \n",
    "\n",
    "If we take a closer look at the content, it looks like it starts with a square bracket, not a curly bracket. This is a sign that we're dealing with a list and not a dictionary!\n",
    "\n",
    "We can rename a new variable to make that more clear."
   ]
  },
  {
   "cell_type": "code",
   "execution_count": 41,
   "metadata": {},
   "outputs": [],
   "source": [
    "articles_list = articles_dict['response']['docs']"
   ]
  },
  {
   "cell_type": "markdown",
   "metadata": {},
   "source": [
    "### Python Lists\n",
    "\n",
    "The most popular kind of data collection in Python is the list, which takes the place of arrays in programming languages like C and Fortran.\n",
    "Lists have two primary important characteristics:\n",
    "1. They are mutable, i.e., they can be changed after they are created.\n",
    "2. They are heterogeneous, i.e., they can store values of many different types.\n",
    "\n",
    "To create a new list, you can just put some values in square brackets with commas in between."
   ]
  },
  {
   "cell_type": "code",
   "execution_count": 42,
   "metadata": {},
   "outputs": [
    {
     "data": {
      "text/plain": [
       "['red', 'orange', 'yellow']"
      ]
     },
     "execution_count": 42,
     "metadata": {},
     "output_type": "execute_result"
    }
   ],
   "source": [
    "my_list = ['red', 'orange', 'yellow']\n",
    "my_list"
   ]
  },
  {
   "cell_type": "markdown",
   "metadata": {},
   "source": [
    "To fetch the element at a specific location, put the *index* of that location in square brackets."
   ]
  },
  {
   "cell_type": "code",
   "execution_count": 43,
   "metadata": {},
   "outputs": [
    {
     "data": {
      "text/plain": [
       "'orange'"
      ]
     },
     "execution_count": 43,
     "metadata": {},
     "output_type": "execute_result"
    }
   ],
   "source": [
    "my_list[1]"
   ]
  },
  {
   "cell_type": "markdown",
   "metadata": {},
   "source": [
    "Why isn't this 'red'? Because Python list indexes start at 0!"
   ]
  },
  {
   "cell_type": "code",
   "execution_count": 44,
   "metadata": {},
   "outputs": [
    {
     "ename": "IndexError",
     "evalue": "list index out of range",
     "output_type": "error",
     "traceback": [
      "\u001b[0;31m---------------------------------------------------------------------------\u001b[0m",
      "\u001b[0;31mIndexError\u001b[0m                                Traceback (most recent call last)",
      "\u001b[0;32m<ipython-input-44-64c78a5a3098>\u001b[0m in \u001b[0;36m<module>\u001b[0;34m()\u001b[0m\n\u001b[0;32m----> 1\u001b[0;31m \u001b[0mmy_list\u001b[0m\u001b[0;34m[\u001b[0m\u001b[0;36m3\u001b[0m\u001b[0;34m]\u001b[0m\u001b[0;34m\u001b[0m\u001b[0m\n\u001b[0m",
      "\u001b[0;31mIndexError\u001b[0m: list index out of range"
     ]
    }
   ],
   "source": [
    "my_list[3]"
   ]
  },
  {
   "cell_type": "markdown",
   "metadata": {},
   "source": [
    "See, there's nothing in the third place in this index, because the three elements are at 0, 1, and 2. \n",
    "\n",
    "You can also display multiple items from the list using a slice, which just adds a colon between the range you'd like to show. \n"
   ]
  },
  {
   "cell_type": "code",
   "execution_count": 45,
   "metadata": {},
   "outputs": [
    {
     "data": {
      "text/plain": [
       "['red', 'orange']"
      ]
     },
     "execution_count": 45,
     "metadata": {},
     "output_type": "execute_result"
    }
   ],
   "source": [
    "my_list[0:2]"
   ]
  },
  {
   "cell_type": "markdown",
   "metadata": {},
   "source": [
    "But why doesn't this show 'yellow'? I thought that was in the index location number 2? \n",
    "\n",
    "The 2 above means to end at the third element in the list, which is ```my_list[2]```, *but not to include it*. So if we want to show the whole list we give one above the final index location:"
   ]
  },
  {
   "cell_type": "code",
   "execution_count": 46,
   "metadata": {},
   "outputs": [
    {
     "data": {
      "text/plain": [
       "['red', 'orange', 'yellow']"
      ]
     },
     "execution_count": 46,
     "metadata": {},
     "output_type": "execute_result"
    }
   ],
   "source": [
    "my_list[0:3]"
   ]
  },
  {
   "cell_type": "markdown",
   "metadata": {},
   "source": [
    "You can use len to see how many items are in the list:"
   ]
  },
  {
   "cell_type": "code",
   "execution_count": 47,
   "metadata": {},
   "outputs": [
    {
     "data": {
      "text/plain": [
       "3"
      ]
     },
     "execution_count": 47,
     "metadata": {},
     "output_type": "execute_result"
    }
   ],
   "source": [
    "len(my_list)"
   ]
  },
  {
   "cell_type": "markdown",
   "metadata": {},
   "source": [
    "You can also use len to count other things: to see how many characters are in a string, for example."
   ]
  },
  {
   "cell_type": "code",
   "execution_count": 48,
   "metadata": {},
   "outputs": [
    {
     "data": {
      "text/plain": [
       "9"
      ]
     },
     "execution_count": 48,
     "metadata": {},
     "output_type": "execute_result"
    }
   ],
   "source": [
    "len(\"Minnesota\")"
   ]
  },
  {
   "cell_type": "markdown",
   "metadata": {},
   "source": [
    "So let's go back to our list of articles."
   ]
  },
  {
   "cell_type": "code",
   "execution_count": 50,
   "metadata": {},
   "outputs": [],
   "source": [
    "articles_list[0]"
   ]
  },
  {
   "cell_type": "markdown",
   "metadata": {},
   "source": [
    "This looks familiar - could it be another dictionary?!"
   ]
  },
  {
   "cell_type": "code",
   "execution_count": 51,
   "metadata": {},
   "outputs": [
    {
     "data": {
      "text/plain": [
       "dict"
      ]
     },
     "execution_count": 51,
     "metadata": {},
     "output_type": "execute_result"
    }
   ],
   "source": [
    "type(articles_list[0])"
   ]
  },
  {
   "cell_type": "code",
   "execution_count": 52,
   "metadata": {},
   "outputs": [
    {
     "data": {
      "text/plain": [
       "dict_keys(['abstract', 'web_url', 'snippet', 'lead_paragraph', 'print_section', 'print_page', 'source', 'multimedia', 'headline', 'keywords', 'pub_date', 'document_type', 'news_desk', 'section_name', 'byline', 'type_of_material', '_id', 'word_count', 'uri'])"
      ]
     },
     "execution_count": 52,
     "metadata": {},
     "output_type": "execute_result"
    }
   ],
   "source": [
    "articles_list[0].keys()"
   ]
  },
  {
   "cell_type": "code",
   "execution_count": 53,
   "metadata": {},
   "outputs": [],
   "source": [
    "headline = articles_list[0]['headline']"
   ]
  },
  {
   "cell_type": "code",
   "execution_count": 54,
   "metadata": {},
   "outputs": [
    {
     "data": {
      "text/plain": [
       "{'main': 'Big Tech May Look Troubled, but It’s Just Getting Started',\n",
       " 'kicker': None,\n",
       " 'content_kicker': None,\n",
       " 'print_headline': 'Did Troubles Clip Wings Of Big Tech? Not Just Yet',\n",
       " 'name': None,\n",
       " 'seo': None,\n",
       " 'sub': None}"
      ]
     },
     "execution_count": 54,
     "metadata": {},
     "output_type": "execute_result"
    }
   ],
   "source": [
    "headline"
   ]
  },
  {
   "cell_type": "code",
   "execution_count": 55,
   "metadata": {},
   "outputs": [
    {
     "data": {
      "text/plain": [
       "dict"
      ]
     },
     "execution_count": 55,
     "metadata": {},
     "output_type": "execute_result"
    }
   ],
   "source": [
    "type(headline)"
   ]
  },
  {
   "cell_type": "code",
   "execution_count": 56,
   "metadata": {},
   "outputs": [],
   "source": [
    "headline = articles_list[0]['headline']['main']"
   ]
  },
  {
   "cell_type": "code",
   "execution_count": 57,
   "metadata": {},
   "outputs": [
    {
     "data": {
      "text/plain": [
       "'Big Tech May Look Troubled, but It’s Just Getting Started'"
      ]
     },
     "execution_count": 57,
     "metadata": {},
     "output_type": "execute_result"
    }
   ],
   "source": [
    "headline"
   ]
  },
  {
   "cell_type": "markdown",
   "metadata": {},
   "source": [
    "### Loops\n",
    "\n",
    "Ugh, this data is pretty gnarly: dictionaries inside of lists inside of dictionaries. How can we put it into a more accessible format?\n",
    "\n",
    "One thing we can do is loop through each article and only grab the information that we care about.\n",
    "We can store that information in lists.\n",
    "\n",
    "### Note the syntax: \n",
    "\n",
    "```\n",
    "for x in y:\n",
    "    do_something # the code in the loop needs to be indented\n",
    "    do_another_thing\n",
    "```"
   ]
  },
  {
   "cell_type": "code",
   "execution_count": 58,
   "metadata": {},
   "outputs": [
    {
     "name": "stdout",
     "output_type": "stream",
     "text": [
      "loop 0 Big Tech May Look Troubled, but It’s Just Getting Started\n",
      "loop 1 Was I Wrong to Facebook-Friend My Nephew’s Girlfriend?\n",
      "loop 2 Happy New Year\n",
      "loop 3 The Lives They Loved: Janet Cunningham\n",
      "loop 4 Mitt Romney, Piling On Trump\n",
      "loop 5 Gillian Anderson Reads ‘Maternal Wisdom (5 Pounds’ Worth)’\n",
      "loop 6 How Tech Surprised and Scared Us in 2018\n",
      "loop 7 Will 2019 Be a Good Year for Investors? Here Are 4 Key Factors Affecting Stocks and the Economy\n",
      "loop 8 DealBook Briefing: What Could Go Wrong in 2019? Plenty\n",
      "loop 9 What to Cook Right Now\n"
     ]
    }
   ],
   "source": [
    "#this is a list\n",
    "headlines = []\n",
    "n = 0\n",
    "for article in articles_list:\n",
    "    # Extract the title from the dictionary\n",
    "    headline = article['headline']['main']\n",
    "    print(\"loop\", n, headline)\n",
    "    # Add the title to the output list\n",
    "    headlines.append(headline)\n",
    "    n += 1"
   ]
  },
  {
   "cell_type": "code",
   "execution_count": 59,
   "metadata": {},
   "outputs": [
    {
     "data": {
      "text/plain": [
       "['Big Tech May Look Troubled, but It’s Just Getting Started',\n",
       " 'Was I Wrong to Facebook-Friend My Nephew’s Girlfriend?',\n",
       " 'Happy New Year',\n",
       " 'The Lives They Loved: Janet Cunningham',\n",
       " 'Mitt Romney, Piling On Trump',\n",
       " 'Gillian Anderson Reads ‘Maternal Wisdom (5 Pounds’ Worth)’',\n",
       " 'How Tech Surprised and Scared Us in 2018',\n",
       " 'Will 2019 Be a Good Year for Investors? Here Are 4 Key Factors Affecting Stocks and the Economy',\n",
       " 'DealBook Briefing: What Could Go Wrong in 2019? Plenty',\n",
       " 'What to Cook Right Now']"
      ]
     },
     "execution_count": 59,
     "metadata": {},
     "output_type": "execute_result"
    }
   ],
   "source": [
    "headlines"
   ]
  },
  {
   "cell_type": "markdown",
   "metadata": {},
   "source": [
    "### Putting it all together\n",
    "#### Python functions\n",
    "\n",
    "We’d like a way to package our code so that it is easier to reuse, and Python provides for this by letting us define things called ‘functions’ — a shorthand way of re-executing longer pieces of code. \n",
    "\n",
    "Let’s start by defining a function ```format_articles``` that cycles through our ```articles_list```, and grabs all of the data we care about.\n",
    "\n",
    "The function definition opens with the keyword ```def``` followed by the name of the function (format_articles) and a parenthesized list of parameter names (unformatted_docs). The body of the function — the statements that are executed when it runs — is indented below the definition line. The body concludes with a return keyword followed by the value we want to take from the function."
   ]
  },
  {
   "cell_type": "code",
   "execution_count": 60,
   "metadata": {},
   "outputs": [],
   "source": [
    "def format_articles(unformatted_docs):\n",
    "    formatted = []\n",
    "    counter = 0\n",
    "    for i in unformatted_docs:\n",
    "        print(\"formatting article number\", counter)\n",
    "        dic = {}\n",
    "        dic['web_url'] = i['web_url']\n",
    "        dic['headline'] = i['headline']['main']\n",
    "        dic['abstract'] = i['abstract']\n",
    "        dic['date'] = i['pub_date'][0:10] # cutting time of day.\n",
    "        if i['lead_paragraph']:\n",
    "            dic['lead_paragraph'] = i['lead_paragraph']\n",
    "        dic['word_count'] = i['word_count']\n",
    "        formatted.append(dic)\n",
    "        counter += 1\n",
    "    return(formatted) "
   ]
  },
  {
   "cell_type": "code",
   "execution_count": 61,
   "metadata": {},
   "outputs": [
    {
     "name": "stdout",
     "output_type": "stream",
     "text": [
      "formatting article number 0\n",
      "formatting article number 1\n",
      "formatting article number 2\n",
      "formatting article number 3\n",
      "formatting article number 4\n",
      "formatting article number 5\n",
      "formatting article number 6\n",
      "formatting article number 7\n",
      "formatting article number 8\n",
      "formatting article number 9\n"
     ]
    }
   ],
   "source": [
    "all_formatted = format_articles(articles_list)"
   ]
  },
  {
   "cell_type": "code",
   "execution_count": 62,
   "metadata": {},
   "outputs": [
    {
     "data": {
      "text/plain": [
       "{'web_url': 'https://www.nytimes.com/2019/01/02/opinion/romney-trump-republican-party.html',\n",
       " 'headline': 'Mitt Romney, Piling On Trump',\n",
       " 'abstract': 'The president is facing a level of intraparty criticism that has no recent precedent.',\n",
       " 'date': '2019-01-02',\n",
       " 'lead_paragraph': 'This article is part of the Opinion Today newsletter. You can sign up here to receive the newsletter each weekday.',\n",
       " 'word_count': 575}"
      ]
     },
     "execution_count": 62,
     "metadata": {},
     "output_type": "execute_result"
    }
   ],
   "source": [
    "all_formatted[4]"
   ]
  },
  {
   "cell_type": "code",
   "execution_count": 63,
   "metadata": {},
   "outputs": [
    {
     "data": {
      "text/plain": [
       "'Mitt Romney, Piling On Trump'"
      ]
     },
     "execution_count": 63,
     "metadata": {},
     "output_type": "execute_result"
    }
   ],
   "source": [
    "all_formatted[4]['headline']"
   ]
  },
  {
   "cell_type": "markdown",
   "metadata": {},
   "source": [
    "### NY Times API Function\n",
    "Because the NYTimes API is consistently structured, we can build a function that does all of the work of the API call for us by providing a simple series of inputs. We can then call the function at any time by providing a keywords, start and end dates and Python will do all of the rest of the work.\n",
    "\n",
    "Specifically, we want a function that will:\n",
    "1. Build the url and send the API request to api.nytimes.com\n",
    "2. Pull down the json data, loop through multiple pages of results (so we can view more than ten articles)\n",
    "3. Run the whole thing on a timer so that you do *not* hit the API limit"
   ]
  },
  {
   "cell_type": "code",
   "execution_count": 64,
   "metadata": {},
   "outputs": [],
   "source": [
    "# to set a timer and cycle through the pages, we need a couple of other Python libraries\n",
    "import math\n",
    "import time"
   ]
  },
  {
   "cell_type": "code",
   "execution_count": 68,
   "metadata": {},
   "outputs": [],
   "source": [
    "### Get API data function\n",
    "\n",
    "def get_api_data(term, date_s, date_e):\n",
    "    # set base url\n",
    "    base_url=\"http://api.nytimes.com/svc/search/v2/articlesearch.json\"\n",
    "    key = \"\" #add your api key here\n",
    "    \n",
    "    # set search parameters\n",
    "    search_params = {\"q\":term,\n",
    "                     \"api-key\":key,\n",
    "                     \"begin_date\": str(date_s), \n",
    "                     \"end_date\":str(date_e)}\n",
    "\n",
    "    # make request\n",
    "    r = requests.get(base_url, params=search_params)\n",
    "\n",
    "    # convert to a dictionary\n",
    "    data=json.loads(r.text)\n",
    "    print(r.url)\n",
    "    print()\n",
    "    \n",
    "    # get number of hits\n",
    "    hits = data['response']['meta']['hits']\n",
    "    print(\"number of hits:\", str(hits))\n",
    "\n",
    "    # get number of pages\n",
    "    pages = int(math.ceil(hits/10))\n",
    "\n",
    "    # make an empty list where we'll hold all of our docs for every page\n",
    "    all_docs = [] \n",
    "\n",
    "    # now we're ready to loop through the pages\n",
    "    for i in range(pages):\n",
    "        print(\"collecting page\", str(i))\n",
    "        time.sleep(7)\n",
    "        # set the page parameter\n",
    "        search_params['page'] = i\n",
    "\n",
    "        # make request\n",
    "        r = requests.get(base_url, params=search_params)\n",
    "        \n",
    "        # get text and convert to a dictionary\n",
    "        data=json.loads(r.text)\n",
    "        \n",
    "        # get just the docs\n",
    "        docs = data['response']['docs']\n",
    "\n",
    "        # add those docs to the big list\n",
    "        all_docs = all_docs + docs\n",
    "        \n",
    "    return(all_docs)"
   ]
  },
  {
   "cell_type": "code",
   "execution_count": 69,
   "metadata": {},
   "outputs": [
    {
     "name": "stdout",
     "output_type": "stream",
     "text": [
      "http://api.nytimes.com/svc/search/v2/articlesearch.json?q=north+korea&api-key=25ixfQ4setpYPVT9KmVeyh9aKM9Cmn44&begin_date=20200401&end_date=20200405\n",
      "\n",
      "number of hits: 13\n",
      "collecting page 0\n",
      "collecting page 1\n"
     ]
    }
   ],
   "source": [
    "all_north = get_api_data(\"north korea\", 20200401, 20200405) # add your search terms between quotes; dates must be in YYYYMMDD format"
   ]
  },
  {
   "cell_type": "code",
   "execution_count": 70,
   "metadata": {},
   "outputs": [
    {
     "data": {
      "text/plain": [
       "13"
      ]
     },
     "execution_count": 70,
     "metadata": {},
     "output_type": "execute_result"
    }
   ],
   "source": [
    "#how many results are there?\n",
    "len(all_north)"
   ]
  },
  {
   "cell_type": "code",
   "execution_count": null,
   "metadata": {},
   "outputs": [],
   "source": [
    "#all_north[1]"
   ]
  },
  {
   "cell_type": "markdown",
   "metadata": {},
   "source": [
    "Now let's format those articles using our old ```formatted_articles``` function!"
   ]
  },
  {
   "cell_type": "code",
   "execution_count": 71,
   "metadata": {},
   "outputs": [
    {
     "name": "stdout",
     "output_type": "stream",
     "text": [
      "formatting article number 0\n",
      "formatting article number 1\n",
      "formatting article number 2\n",
      "formatting article number 3\n",
      "formatting article number 4\n",
      "formatting article number 5\n",
      "formatting article number 6\n",
      "formatting article number 7\n",
      "formatting article number 8\n",
      "formatting article number 9\n",
      "formatting article number 10\n",
      "formatting article number 11\n",
      "formatting article number 12\n"
     ]
    }
   ],
   "source": [
    "formatted_articles = format_articles(all_north)"
   ]
  },
  {
   "cell_type": "code",
   "execution_count": 72,
   "metadata": {},
   "outputs": [
    {
     "data": {
      "text/plain": [
       "{'web_url': 'https://www.nytimes.com/interactive/2020/04/03/briefing/coronavirus-ventilators-ellis-marsalis-jr-news-quiz.html',\n",
       " 'headline': 'News Quiz: Coronavirus, Ventilators, Ellis Marsalis Jr.',\n",
       " 'abstract': 'Did you follow the headlines this week?',\n",
       " 'date': '2020-04-03',\n",
       " 'lead_paragraph': 'Did you follow the headlines this week?',\n",
       " 'word_count': 0}"
      ]
     },
     "execution_count": 72,
     "metadata": {},
     "output_type": "execute_result"
    }
   ],
   "source": [
    "formatted_articles[0]"
   ]
  },
  {
   "cell_type": "markdown",
   "metadata": {},
   "source": [
    "### Putting it all together\n",
    "We can write a loop to print the headlines, urls, and dates for each article in your data.\n",
    "\n",
    "\n",
    "1. Within your formatted_articles list, each item is represented in a dictionary key:value pair. To display the value, use the syntax ```variable_name['key_name']``` \n",
    "2. A good way to start the loop would be: ```for article in formatted_articles:```\n",
    "3. It's helpful to display the article number as you print each article. You can use an iterator variable to do that, and use ```x += 1``` at the end of the loop to keep the iterator in line with the loop. (There's also a fucntion in Python called [enumerate()](https://www.w3schools.com/python/ref_func_enumerate.asp) that you could use instead of a manual iterator, if you want)\n",
    "4. Within ```print()``` you can call multiple variables using commas: ```print(variable_one, '\\n', variable_two['key_name'])```\n",
    " - Note that ```'\\n'``` will add a line break to the output, which can make things easier to read.\n"
   ]
  },
  {
   "cell_type": "code",
   "execution_count": 73,
   "metadata": {},
   "outputs": [
    {
     "name": "stdout",
     "output_type": "stream",
     "text": [
      "0 News Quiz: Coronavirus, Ventilators, Ellis Marsalis Jr. \n",
      " https://www.nytimes.com/interactive/2020/04/03/briefing/coronavirus-ventilators-ellis-marsalis-jr-news-quiz.html \n",
      " 2020-04-03 \n",
      "\n",
      "1 Prepare for War or Fight Coronavirus? U.S. Military Battles Competing Instincts \n",
      " https://www.nytimes.com/2020/04/01/us/politics/coronavirus-aircraft-carrier-roosevelt.html \n",
      " 2020-04-01 \n",
      "\n",
      "2 Empire State Building Coronavirus Tribute Rang a False Alarm, Fallon Jokes \n",
      " https://www.nytimes.com/2020/04/01/arts/television/empire-state-building-coronavirus.html \n",
      " 2020-04-01 \n",
      "\n",
      "3 Coronavirus, Donald Trump, Asia: Your Wednesday Briefing \n",
      " https://www.nytimes.com/2020/03/31/briefing/coronavirus-trump-asia.html \n",
      " 2020-04-01 \n",
      "\n",
      "4 U.N. Security Council ‘Missing In Action’ in Coronavirus Fight \n",
      " https://www.nytimes.com/2020/04/02/world/americas/coronavirus-united-nations-guterres.html \n",
      " 2020-04-02 \n",
      "\n",
      "5 He Led a Top Navy Ship. Now He Sits in Quarantine, Fired and Infected. \n",
      " https://www.nytimes.com/2020/04/05/us/politics/coronavirus-aircraft-carrier-roosevelt-crozier.html \n",
      " 2020-04-05 \n",
      "\n",
      "6 The Mask Fiasco \n",
      " https://www.nytimes.com/2020/04/01/opinion/coronavirus-face-masks.html \n",
      " 2020-04-01 \n",
      "\n",
      "7 Italy’s Virus Shutdown Came Too Late. What Happens Now? \n",
      " https://www.nytimes.com/interactive/2020/04/05/world/europe/italy-coronavirus-lockdown-reopen.html \n",
      " 2020-04-05 \n",
      "\n",
      "8 Coronavirus, Global Recession, Wimbledon: Your Thursday Briefing \n",
      " https://www.nytimes.com/2020/04/02/briefing/global-recession-coronavirus-wimbledon.html \n",
      " 2020-04-02 \n",
      "\n",
      "9 What Students Are Saying About Public Preschool, Staying Healthy and Being Trapped Inside \n",
      " https://www.nytimes.com/2020/04/02/learning/what-students-are-saying-about-public-preschool-staying-healthy-and-being-trapped-inside.html \n",
      " 2020-04-02 \n",
      "\n",
      "10 Trump Warns of ‘a Lot of Death’ While Also Revisiting Easter Sunday Services \n",
      " https://www.nytimes.com/2020/04/04/world/coronavirus-live-news-updates.html \n",
      " 2020-04-04 \n",
      "\n",
      "11 White House Debates How Far to Go on Face Mask Guidelines \n",
      " https://www.nytimes.com/2020/04/02/world/coronavirus-live-news-updates.html \n",
      " 2020-04-02 \n",
      "\n",
      "12 C.D.C. Recommends Wearing Masks in Public; Trump Says, ‘I’m Choosing Not to Do It’ \n",
      " https://www.nytimes.com/2020/04/03/world/coronavirus-news-updates.html \n",
      " 2020-04-03 \n",
      "\n"
     ]
    }
   ],
   "source": [
    "x = 0\n",
    "for article in formatted_articles:\n",
    "    print(x, article['headline'], '\\n', article['web_url'], '\\n', article['date'], '\\n')\n",
    "    x += 1"
   ]
  },
  {
   "cell_type": "code",
   "execution_count": null,
   "metadata": {},
   "outputs": [],
   "source": []
  }
 ],
 "metadata": {
  "kernelspec": {
   "display_name": "Python 3",
   "language": "python",
   "name": "python3"
  },
  "language_info": {
   "codemirror_mode": {
    "name": "ipython",
    "version": 3
   },
   "file_extension": ".py",
   "mimetype": "text/x-python",
   "name": "python",
   "nbconvert_exporter": "python",
   "pygments_lexer": "ipython3",
   "version": "3.7.0"
  }
 },
 "nbformat": 4,
 "nbformat_minor": 2
}
