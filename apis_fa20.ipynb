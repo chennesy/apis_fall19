{
 "cells": [
  {
   "cell_type": "markdown",
   "metadata": {},
   "source": [
    "## Introduction to Web APIs in Python\n",
    "- UMN LATIS & Libraries workshop, Oct 30 2020\n",
    "- Cody Hennesy (chennesy@umn.edu) and Michael Beckstrand (mjbeckst@umn.edu)\n",
    "\n",
    "In this workshop we’ll use Python to query and download data using the NY Times API.\n",
    "\n",
    "This workshop will cover how to:\n",
    "* Use Python 3 in a JupyterLab computing environment\n",
    "* Read API documentation to build successful API queries\n",
    "* Use the Requests and JSON Python libraries to download data from the NY Times API\n",
    "* Use built-in Python functions such as type, len, and dir to explore API data\n",
    "* Explore API data in Python using dictionaries\n",
    "\n",
    "Credits: Content for this workshop was adapted from the [DHSI 2019 APIs class](https://github.com/szweibel/DHSI-API-workshop) and from [Software Carpentry Python lessons](http://swcarpentry.github.io/python-novice-inflammation/).\n",
    "\n",
    "### Why Python? \n",
    "- Reproducibility\n",
    "- Repeatable\n",
    "- Extensible - popular libraries (packages such as pandas, matplotlib)\n",
    "- Great for data access and data cleaning\n",
    "\n",
    "### What's Jupyter?\n",
    "- Web-based, so easy to share\n",
    "- Easy to read, easy to run\n",
    "- Run code piece by piece\n",
    "\n",
    "### Brief intro to Python and Jupyter\n",
    "- You can use Python as a calculator. \n",
    "- To \"run\" a Jupyter cell hold down shift and select Return/Enter, or choose the \"play icon\" (right-facing triangle) from the Jupyter menu above. "
   ]
  },
  {
   "cell_type": "code",
   "execution_count": null,
   "metadata": {},
   "outputs": [],
   "source": [
    "2 + 3 * 5"
   ]
  },
  {
   "cell_type": "markdown",
   "metadata": {},
   "source": [
    "But to do more interesting things, we will want to assign values to *variables*."
   ]
  },
  {
   "cell_type": "code",
   "execution_count": null,
   "metadata": {},
   "outputs": [],
   "source": [
    "weight_kg = 60"
   ]
  },
  {
   "cell_type": "code",
   "execution_count": null,
   "metadata": {},
   "outputs": [],
   "source": [
    "print(weight_kg)"
   ]
  },
  {
   "cell_type": "markdown",
   "metadata": {},
   "source": [
    "In Python, variable names:\n",
    "\n",
    "* can include letters, digits, and underscores\n",
    "* cannot start with a digit\n",
    "* are case sensitive."
   ]
  },
  {
   "cell_type": "markdown",
   "metadata": {},
   "source": [
    "You can do calculations while printing:"
   ]
  },
  {
   "cell_type": "markdown",
   "metadata": {},
   "source": [
    "## Importing Libraries"
   ]
  },
  {
   "cell_type": "code",
   "execution_count": null,
   "metadata": {},
   "outputs": [],
   "source": [
    "import requests"
   ]
  },
  {
   "cell_type": "markdown",
   "metadata": {},
   "source": [
    "Importing a library is like getting a piece of lab equipment out of a storage locker and setting it up on the bench. Libraries provide additional functionality to the basic Python package, much like a new piece of equipment adds functionality to a lab space. Just like in the lab, importing too many libraries can sometimes complicate and slow down your programs - so we only import what we need for each program."
   ]
  },
  {
   "cell_type": "code",
   "execution_count": null,
   "metadata": {},
   "outputs": [],
   "source": [
    "requests.get('https://lib.umn.edu')"
   ]
  },
  {
   "cell_type": "markdown",
   "metadata": {},
   "source": [
    "### Libraries and functions\n",
    "The expression ```requests.get(...)``` is a function call that asks Python to run the function ```get``` which belongs to the ```requests``` library. \n",
    "\n",
    "This dotted notation is used everywhere in Python: the thing that appears before the dot contains the thing that appears after.\n",
    "\n",
    "As an example, we could use the dot notation to write the relationship between Minneapolis and Minnesota as ```Minnesota.Minneapolis```, just as *get* is a function that belongs to the *requests* library.\n",
    "\n",
    "#### What did we do above?\n",
    "1. Created a Python HTTP request object for a GET\n",
    "2. Send the HTTP request to webserver at lib.umn.edu\n",
    "3. Received the response ```[200]``` from lib.umn.edu - [what's that mean?](https://en.wikipedia.org/wiki/List_of_HTTP_status_codes)"
   ]
  },
  {
   "cell_type": "markdown",
   "metadata": {},
   "source": [
    "In Jupyter notebooks using Python you can explore functions of a library using the *tab* key.\n",
    "\n",
    "And to understand each function you can get information by putting a question mark after it:"
   ]
  },
  {
   "cell_type": "code",
   "execution_count": null,
   "metadata": {},
   "outputs": [],
   "source": [
    "requests.get?"
   ]
  },
  {
   "cell_type": "markdown",
   "metadata": {},
   "source": [
    "You can store the data that is returned from the get request in a variable:"
   ]
  },
  {
   "cell_type": "code",
   "execution_count": null,
   "metadata": {},
   "outputs": [],
   "source": [
    "umn_site = requests.get('https://lib.umn.edu')\n",
    "print(umn_site)"
   ]
  },
  {
   "cell_type": "markdown",
   "metadata": {},
   "source": [
    "Now you can explore the attributes of the data object, umn_site, using the same dot notation. Use tab to explore the options, and the question mark to read more about the attribute.\n",
    "\n",
    "```umn_site.text```, for example."
   ]
  },
  {
   "cell_type": "code",
   "execution_count": null,
   "metadata": {},
   "outputs": [],
   "source": [
    "#print(umn_site.headers)"
   ]
  },
  {
   "cell_type": "markdown",
   "metadata": {},
   "source": [
    "### NYT API request\n",
    "Let's apply what we've learned about Python and the Requests library to the NY Times API.\n",
    "\n",
    "1. Create a variable called nyt_articles, and use requests.get to make an API call to the NY Times.\n",
    "2. Make sure the URL includes your:\n",
    " - keywords (```q=```)\n",
    " - the ```begin_date``` and ```end_date``` filters to make sure you don't go over your daily limit\n",
    " - your API key (```api-key=```)\n",
    " \n",
    "Check out the [Developer site for an example URL](https://developer.nytimes.com/docs/articlesearch-product/1/overview).\n",
    "\n",
    "We can also separate different filters out into their own variables and concatenate the full URL using the plus sign!"
   ]
  },
  {
   "cell_type": "code",
   "execution_count": null,
   "metadata": {},
   "outputs": [],
   "source": [
    "nyt_articles = requests.get(\"http://api.nytimes.com/svc/search/v2/articlesearch.json?q=facebook&api-key=[INSERTKEY]&begin_date=20190101&end_date=20190102\")"
   ]
  },
  {
   "cell_type": "markdown",
   "metadata": {},
   "source": [
    "### String concatenation\n",
    "We can concatenate strings together using the + operator. \n",
    "```\n",
    "string_1 = \"Hello\"\n",
    "string_2 = \"world!\"\n",
    "combined = string_1 + string_2\n",
    "print(combined)```\n",
    "\n",
    "\"Hello world!\""
   ]
  },
  {
   "cell_type": "code",
   "execution_count": null,
   "metadata": {},
   "outputs": [],
   "source": [
    "base_url = \"http://api.nytimes.com/svc/search/v2/articlesearch.json?\"\n",
    "query = \"q=facebook\"\n",
    "api_key = \"&api-key=\"\n",
    "dates = \"&begin_date=20200101&end_date=20200102\"\n",
    "\n",
    "url = base_url+query+api_key+dates"
   ]
  },
  {
   "cell_type": "code",
   "execution_count": null,
   "metadata": {},
   "outputs": [],
   "source": [
    "nyt_articles = requests.get(url)"
   ]
  },
  {
   "cell_type": "markdown",
   "metadata": {},
   "source": [
    "We can use a built in Python function called type() to explore the results."
   ]
  },
  {
   "cell_type": "code",
   "execution_count": null,
   "metadata": {},
   "outputs": [],
   "source": [
    "type(nyt_articles)"
   ]
  },
  {
   "cell_type": "markdown",
   "metadata": {},
   "source": [
    "This means that nyt_articles is a Response object as defined in the requests library. But what is a Python object? And what can we do with it?\n",
    "\n",
    "Objects in Python (and other programming languages) are basically containers that can hold data and/or functions inside them. When a function is inside an object, we usually call the function a \"method.\" When data is inside an object, we usually call it an \"attribute.\" The terminology isn't that important, though. What we do need to know is that you can access these \"methods\" and \"attributes\" with a . (a dot or period).\n",
    "\n",
    "### Explore the NYT API Response object\n",
    "- We stored the requests response from the NY Times API in a variable called ```nyt_articles.```\n",
    "- Let's use Jupyter's tab autocomplete feature after the variable (```nyt_articles.```) to explore the different attributes of the response object. "
   ]
  },
  {
   "cell_type": "code",
   "execution_count": null,
   "metadata": {},
   "outputs": [],
   "source": [
    "#nyt_articles.text"
   ]
  },
  {
   "cell_type": "markdown",
   "metadata": {},
   "source": [
    "When you encounter an object, how can you learn its methods and atributes so you can use them? There are two main ways. The first, and likely the most practical, is to read the documentation of the library you're using.\n",
    "\n",
    "It often happens, though, that the docs for a library you're using are confusing, nonexistent, or inaccurate. In these cases, you can try using the dir() function, which will tell you which methods and attributes are available in an object.\n",
    "\n",
    "When using dir(), you'll mostly want to ignore the methods and attributes that have underscores around them. They mainly have to do with the internals of the Python language."
   ]
  },
  {
   "cell_type": "code",
   "execution_count": null,
   "metadata": {},
   "outputs": [],
   "source": [
    "dir(nyt_articles)"
   ]
  },
  {
   "cell_type": "markdown",
   "metadata": {},
   "source": [
    "### Working with JSON and dictionaries\n",
    "Let's import the json python library to be able to dig more deeply into the data we acquired from the NY Times."
   ]
  },
  {
   "cell_type": "code",
   "execution_count": null,
   "metadata": {},
   "outputs": [],
   "source": [
    "import json"
   ]
  },
  {
   "cell_type": "markdown",
   "metadata": {},
   "source": [
    "json includes a function called ```.loads``` that we can use to assign the json data to something called a Python dictionary.\n",
    "\n",
    "Let's create a variable to hold the dictionary, and then apply json.loads to our nyt_articles.text."
   ]
  },
  {
   "cell_type": "code",
   "execution_count": null,
   "metadata": {},
   "outputs": [],
   "source": [
    "articles_dict = json.loads(nyt_articles.text)"
   ]
  },
  {
   "cell_type": "markdown",
   "metadata": {},
   "source": [
    "### Ignore: for workshop prep"
   ]
  },
  {
   "cell_type": "code",
   "execution_count": null,
   "metadata": {},
   "outputs": [],
   "source": [
    "with open('articles_dict.json', 'w') as fp:\n",
    "    json.dump(articles_dict, fp)"
   ]
  },
  {
   "cell_type": "markdown",
   "metadata": {},
   "source": [
    "### Load file if student does not have API key"
   ]
  },
  {
   "cell_type": "code",
   "execution_count": null,
   "metadata": {},
   "outputs": [],
   "source": [
    "with open('articles_dict.json', 'r') as fp:\n",
    "    articles_dict = json.load(fp)"
   ]
  },
  {
   "cell_type": "markdown",
   "metadata": {},
   "source": [
    "We can see that the results are something called a dict, by using our old friend type()."
   ]
  },
  {
   "cell_type": "code",
   "execution_count": null,
   "metadata": {},
   "outputs": [],
   "source": [
    "type(articles_dict)"
   ]
  },
  {
   "cell_type": "markdown",
   "metadata": {},
   "source": [
    "### Python Dictionaries \n",
    "\n",
    "A Python dictionary is a way to hold an unordered list of items, using something called a 'key:value' pair.\n",
    "\n",
    "You can create an empty dictionary using curly brackets:"
   ]
  },
  {
   "cell_type": "code",
   "execution_count": null,
   "metadata": {},
   "outputs": [],
   "source": [
    "my_dictionary = {}"
   ]
  },
  {
   "cell_type": "markdown",
   "metadata": {},
   "source": [
    "Or you could manually assign it keys and values, like so:"
   ]
  },
  {
   "cell_type": "code",
   "execution_count": null,
   "metadata": {},
   "outputs": [],
   "source": [
    "my_dictionary = {'Monday':'Apples', 'Tuesday':'Oranges'} \n",
    "my_dictionary"
   ]
  },
  {
   "cell_type": "code",
   "execution_count": null,
   "metadata": {},
   "outputs": [],
   "source": [
    "my_dictionary.keys()"
   ]
  },
  {
   "cell_type": "code",
   "execution_count": null,
   "metadata": {},
   "outputs": [],
   "source": [
    "my_dictionary.values()"
   ]
  },
  {
   "cell_type": "code",
   "execution_count": null,
   "metadata": {},
   "outputs": [],
   "source": [
    "articles_dict"
   ]
  },
  {
   "cell_type": "markdown",
   "metadata": {},
   "source": [
    "You can explore the keys of any dictionary using the notation:\n",
    "\n",
    "```my_dict.keys()```"
   ]
  },
  {
   "cell_type": "code",
   "execution_count": null,
   "metadata": {},
   "outputs": [],
   "source": [
    "articles_dict.keys()"
   ]
  },
  {
   "cell_type": "markdown",
   "metadata": {},
   "source": [
    "You can look at the value of a specific key using square brackets:\n",
    "\n",
    "```my_dict['key_name']```"
   ]
  },
  {
   "cell_type": "code",
   "execution_count": null,
   "metadata": {},
   "outputs": [],
   "source": [
    "articles_dict['status']"
   ]
  },
  {
   "cell_type": "code",
   "execution_count": null,
   "metadata": {},
   "outputs": [],
   "source": [
    "articles_dict['copyright']"
   ]
  },
  {
   "cell_type": "code",
   "execution_count": null,
   "metadata": {},
   "outputs": [],
   "source": [
    "articles_dict['response']"
   ]
  },
  {
   "cell_type": "markdown",
   "metadata": {},
   "source": [
    "Wait a minute - that's a ton of information in a format we've seen before. \n",
    "\n",
    "Let's check out what type of object is inside of the response object value of this dictionary:"
   ]
  },
  {
   "cell_type": "code",
   "execution_count": null,
   "metadata": {},
   "outputs": [],
   "source": [
    "type(articles_dict['response'])"
   ]
  },
  {
   "cell_type": "markdown",
   "metadata": {},
   "source": [
    "Whoa, it's a dictionary inside a dictionary. So now we can explore the keys and values in the response object."
   ]
  },
  {
   "cell_type": "code",
   "execution_count": null,
   "metadata": {},
   "outputs": [],
   "source": [
    "articles_dict['response'].keys()"
   ]
  },
  {
   "cell_type": "markdown",
   "metadata": {},
   "source": [
    "To look deeper inside of the dictionary object, we can just add another bracketed statement pointing to the key."
   ]
  },
  {
   "cell_type": "code",
   "execution_count": null,
   "metadata": {},
   "outputs": [],
   "source": [
    "articles_dict['response']['meta']"
   ]
  },
  {
   "cell_type": "code",
   "execution_count": null,
   "metadata": {},
   "outputs": [],
   "source": [
    "#articles_dict['response']['docs']"
   ]
  },
  {
   "cell_type": "markdown",
   "metadata": {},
   "source": [
    "Ok, so here's the content we want - the metadata about the actual articles! Let's assign this all to another variable so that it's a little easier to work with going forward."
   ]
  },
  {
   "cell_type": "code",
   "execution_count": null,
   "metadata": {},
   "outputs": [],
   "source": [
    "articles_all = articles_dict['response']['docs']"
   ]
  },
  {
   "cell_type": "code",
   "execution_count": null,
   "metadata": {},
   "outputs": [],
   "source": [
    "articles_all.keys()"
   ]
  },
  {
   "cell_type": "markdown",
   "metadata": {},
   "source": [
    "Why can't we look at the keys for the articles? \n",
    "\n",
    "If we take a closer look at the content, it looks like it starts with a square bracket, not a curly bracket. This is a sign that we're dealing with a list and not a dictionary!\n",
    "\n",
    "We can rename a new variable to make that more clear."
   ]
  },
  {
   "cell_type": "code",
   "execution_count": null,
   "metadata": {},
   "outputs": [],
   "source": [
    "articles_list = articles_dict['response']['docs']"
   ]
  },
  {
   "cell_type": "markdown",
   "metadata": {},
   "source": [
    "You can use len() to see how many items are in the list:"
   ]
  },
  {
   "cell_type": "code",
   "execution_count": null,
   "metadata": {},
   "outputs": [],
   "source": [
    "len(articles_list)"
   ]
  },
  {
   "cell_type": "markdown",
   "metadata": {},
   "source": [
    "You can also use len to count other things: to see how many characters are in a string, for example."
   ]
  },
  {
   "cell_type": "code",
   "execution_count": null,
   "metadata": {},
   "outputs": [],
   "source": [
    "len(\"Minnesota\")"
   ]
  },
  {
   "cell_type": "markdown",
   "metadata": {},
   "source": [
    "### API Limits and paging\n",
    "Why are there only ten articles in our list, when the response object told us there were 33 hits?\n",
    "\n",
    "From the [NY Times API documentation](https://developer.nytimes.com/docs/articlesearch-product/1/overview): \n",
    "\n",
    "\"The Article Search API returns a max of 10 results at a time. The meta node in the response contains the total number of matches (\"hits\") and the current offset. Use the page query parameter to paginate thru results (page=0 for results 1-10, page=1 for 11-20, ...). You can paginate thru up to 100 pages (1,000 results). If you get too many results try filtering by date range.\"\n",
    "\n",
    "And from [their FAQ](https://developer.nytimes.com/faq#a11): \n",
    "\n",
    "\"There are two rate limits per API: 4,000 requests per day and 10 requests per minute. You should sleep 6 seconds between calls to avoid hitting the per minute rate limit. If you need a higher rate limit, please contact us at code@nytimes.com.\"\n",
    "\n",
    "So if we want to collect all of these responses, we'll need to page through them ten-articles at a time, with a pause of six seconds per request. We can do that later on using a \"for loop.\""
   ]
  },
  {
   "cell_type": "markdown",
   "metadata": {},
   "source": [
    "### Python Lists\n",
    "\n",
    "The most popular kind of data collection in Python is the list, which takes the place of arrays in programming languages like C and Fortran.\n",
    "Lists have two primary important characteristics:\n",
    "1. They are mutable, i.e., they can be changed after they are created.\n",
    "2. They are heterogeneous, i.e., they can store values of many different types.\n",
    "\n",
    "To create a new list, you can just put some values in square brackets with commas in between."
   ]
  },
  {
   "cell_type": "code",
   "execution_count": null,
   "metadata": {},
   "outputs": [],
   "source": [
    "my_list = ['red', 'orange', 'yellow']\n",
    "my_list"
   ]
  },
  {
   "cell_type": "markdown",
   "metadata": {},
   "source": [
    "To fetch the element at a specific location, put the *index* of that location in square brackets."
   ]
  },
  {
   "cell_type": "code",
   "execution_count": null,
   "metadata": {},
   "outputs": [],
   "source": [
    "my_list[1]"
   ]
  },
  {
   "cell_type": "markdown",
   "metadata": {},
   "source": [
    "Why isn't this 'red'? Because Python list indexes start at 0!"
   ]
  },
  {
   "cell_type": "code",
   "execution_count": null,
   "metadata": {},
   "outputs": [],
   "source": [
    "my_list[3]"
   ]
  },
  {
   "cell_type": "markdown",
   "metadata": {},
   "source": [
    "See, there's nothing in the third place in this index, because the three elements are at 0, 1, and 2. \n",
    "\n",
    "You can also display multiple items from the list using a slice, which just adds a colon between the range you'd like to show. \n"
   ]
  },
  {
   "cell_type": "code",
   "execution_count": null,
   "metadata": {},
   "outputs": [],
   "source": [
    "my_list[0:2]"
   ]
  },
  {
   "cell_type": "markdown",
   "metadata": {},
   "source": [
    "But why doesn't this show 'yellow'? I thought that was in the index location number 2? \n",
    "\n",
    "The 2 above means to end at the third element in the list, which is ```my_list[2]```, *but not to include it*. So if we want to show the whole list we give one above the final index location:"
   ]
  },
  {
   "cell_type": "code",
   "execution_count": null,
   "metadata": {},
   "outputs": [],
   "source": [
    "my_list[0:3]"
   ]
  },
  {
   "cell_type": "markdown",
   "metadata": {},
   "source": [
    "So let's go back to our list of articles."
   ]
  },
  {
   "cell_type": "code",
   "execution_count": null,
   "metadata": {},
   "outputs": [],
   "source": [
    "articles_list[0]"
   ]
  },
  {
   "cell_type": "markdown",
   "metadata": {},
   "source": [
    "This looks familiar - could it be another dictionary?!"
   ]
  },
  {
   "cell_type": "code",
   "execution_count": null,
   "metadata": {},
   "outputs": [],
   "source": [
    "type(articles_list[0])"
   ]
  },
  {
   "cell_type": "code",
   "execution_count": null,
   "metadata": {},
   "outputs": [],
   "source": [
    "articles_list[0].keys()"
   ]
  },
  {
   "cell_type": "code",
   "execution_count": null,
   "metadata": {},
   "outputs": [],
   "source": [
    "headline = articles_list[0]['headline']"
   ]
  },
  {
   "cell_type": "code",
   "execution_count": null,
   "metadata": {},
   "outputs": [],
   "source": [
    "headline"
   ]
  },
  {
   "cell_type": "code",
   "execution_count": null,
   "metadata": {},
   "outputs": [],
   "source": [
    "type(headline)"
   ]
  },
  {
   "cell_type": "code",
   "execution_count": null,
   "metadata": {},
   "outputs": [],
   "source": [
    "headline = articles_list[0]['headline']['main']"
   ]
  },
  {
   "cell_type": "code",
   "execution_count": null,
   "metadata": {},
   "outputs": [],
   "source": [
    "headline"
   ]
  },
  {
   "cell_type": "markdown",
   "metadata": {},
   "source": [
    "### Loops\n",
    "\n",
    "Ugh, this data is pretty gnarly: dictionaries inside of lists inside of dictionaries. How can we put it into a more accessible format?\n",
    "\n",
    "One thing we can do is loop through each article and only grab the information that we care about.\n",
    "We can store that information in lists.\n",
    "\n",
    "### Note the syntax: \n",
    "\n",
    "```\n",
    "for x in y:\n",
    "    do_something # the code in the loop needs to be indented\n",
    "    do_another_thing\n",
    "```"
   ]
  },
  {
   "cell_type": "code",
   "execution_count": null,
   "metadata": {},
   "outputs": [],
   "source": [
    "#this is a list\n",
    "headlines = []\n",
    "n = 0\n",
    "for article in articles_list:\n",
    "    # Extract the title from the dictionary\n",
    "    headline = article['headline']['main']\n",
    "    print(\"loop\", n, headline)\n",
    "    # Add the title to the output list\n",
    "    headlines.append(headline)\n",
    "    n += 1"
   ]
  },
  {
   "cell_type": "code",
   "execution_count": null,
   "metadata": {},
   "outputs": [],
   "source": [
    "headlines"
   ]
  },
  {
   "cell_type": "markdown",
   "metadata": {},
   "source": [
    "### What about the full set of 33 articles?"
   ]
  },
  {
   "cell_type": "markdown",
   "metadata": {},
   "source": [
    "If you remember from before, the Article Search API will only return 10 articles at a time, and requires you to page through the responses in sets of ten, with a delay of six seconds (probably to keep their servers from getting overloaded with huge requests).\n",
    "\n",
    "So we can set up another loop, to page through your search one page at a time. To do that, first we'll need a couple of handy Python libraries: math and time. "
   ]
  },
  {
   "cell_type": "code",
   "execution_count": null,
   "metadata": {},
   "outputs": [],
   "source": [
    "# to set a timer and cycle through the pages, we need a couple of other Python libraries\n",
    "import math\n",
    "import time"
   ]
  },
  {
   "cell_type": "markdown",
   "metadata": {},
   "source": [
    "Next, let's see if our search url is still ready to go."
   ]
  },
  {
   "cell_type": "code",
   "execution_count": null,
   "metadata": {},
   "outputs": [],
   "source": [
    "print(url)"
   ]
  },
  {
   "cell_type": "code",
   "execution_count": null,
   "metadata": {},
   "outputs": [],
   "source": [
    "# if you need to load a search url:\n",
    "url = http://api.nytimes.com/svc/search/v2/articlesearch.json?q=facebook&api-key=[INSERT KEY]&begin_date=20200101&end_date=20200102"
   ]
  },
  {
   "cell_type": "markdown",
   "metadata": {},
   "source": [
    "First, let's make another request for the url, and convert the data into a dictionary."
   ]
  },
  {
   "cell_type": "code",
   "execution_count": null,
   "metadata": {},
   "outputs": [],
   "source": [
    "# make request\n",
    "r = requests.get(url)\n",
    "\n",
    "# convert to a dictionary\n",
    "data=json.loads(r.text)\n",
    "print(r.url)\n",
    "print()"
   ]
  },
  {
   "cell_type": "markdown",
   "metadata": {},
   "source": [
    "Next, let's get the number of articles/hits and calculate the number of pages we'll need to page through by dividing the number of hits by 10. We'll use a function of the math library called .ceil() to help us round that number up to the next largest integer. If there are 33 hits, for example, we'll need to request 4 pages of results, so want 33/10 to round up to 4."
   ]
  },
  {
   "cell_type": "code",
   "execution_count": null,
   "metadata": {},
   "outputs": [],
   "source": [
    "# get number of hits\n",
    "hits = data['response']['meta']['hits']\n",
    "print(\"number of hits:\", str(hits))\n",
    "\n",
    "# get number of pages\n",
    "pages = int(math.ceil(hits/10))\n",
    "print(\"number of pages:\", pages)"
   ]
  },
  {
   "cell_type": "markdown",
   "metadata": {},
   "source": [
    "Now let's create an empty list where we can collect all of the articles one page at a time using a for loop. \n",
    "\n",
    "We can loop through the four pages by using a range() function, which returns a sequence of numbers, starting from 0 by default, and increments by 1 (by default), and stops before a specified number (in our case the number of pages).\n",
    "\n",
    "Inside of the for loop we'll first pause for seven seconds using time.sleep(), so that we don't go over the limit of sending requests faster than every six seconds.\n",
    "\n",
    "Then we'll make our request adding the page number, from our range() index, i, at the end of each URL along with 'page='.\n",
    "\n",
    "Next we'll grab the data we want, the .text object, and convert it to a JSON dictionary.\n",
    "\n",
    "Then we'll add each doc to the list, all_docs, using the extend() function which adds all of the members of a list to the bottom of an existing list\n"
   ]
  },
  {
   "cell_type": "code",
   "execution_count": null,
   "metadata": {},
   "outputs": [],
   "source": [
    "# make an empty list where we'll hold all of our docs for every page\n",
    "all_docs = [] \n",
    "\n",
    "# now we're ready to loop through the pages\n",
    "for i in range(pages):\n",
    "    print(\"collecting page\", str(i))\n",
    "    time.sleep(7)\n",
    "\n",
    "    # make request\n",
    "    r = requests.get(url+'page='+str(i))\n",
    "\n",
    "    # get text and convert to a dictionary\n",
    "    data=json.loads(r.text)\n",
    "\n",
    "    # get just the docs\n",
    "    docs = data['response']['docs']\n",
    "\n",
    "    # add those docs to the big list\n",
    "    all_docs.extend(docs)"
   ]
  },
  {
   "cell_type": "code",
   "execution_count": null,
   "metadata": {},
   "outputs": [],
   "source": [
    "len(all_docs)"
   ]
  },
  {
   "cell_type": "markdown",
   "metadata": {},
   "source": [
    "### Functions\n",
    "\n",
    "Now let's define a function ```format_articles``` that cycles through our ```all_docs``` list, and grabs all of the data we care about.\n",
    "\n",
    "The function definition opens with the keyword ```def``` followed by the name of the function (format_articles) and a parenthesized list of parameter names (unformatted_docs). The body of the function — the statements that are executed when it runs — is indented below the definition line. The body concludes with a return keyword followed by the value we want to take from the function."
   ]
  },
  {
   "cell_type": "code",
   "execution_count": null,
   "metadata": {},
   "outputs": [],
   "source": [
    "def format_articles(unformatted_docs):\n",
    "    formatted = []\n",
    "    counter = 0\n",
    "    for i in unformatted_docs:\n",
    "        print(\"formatting article number\", counter)\n",
    "        dic = {}\n",
    "        dic['web_url'] = i['web_url']\n",
    "        dic['headline'] = i['headline']['main']\n",
    "        dic['abstract'] = i['abstract']\n",
    "        dic['date'] = i['pub_date'][0:10] # cutting time of day.\n",
    "        if i['lead_paragraph']:\n",
    "            dic['lead_paragraph'] = i['lead_paragraph']\n",
    "        dic['word_count'] = i['word_count']\n",
    "        formatted.append(dic)\n",
    "        counter += 1\n",
    "    return(formatted) "
   ]
  },
  {
   "cell_type": "code",
   "execution_count": null,
   "metadata": {},
   "outputs": [],
   "source": [
    "all_formatted = format_articles(all_docs)"
   ]
  },
  {
   "cell_type": "code",
   "execution_count": null,
   "metadata": {},
   "outputs": [],
   "source": [
    "all_formatted[4]"
   ]
  },
  {
   "cell_type": "code",
   "execution_count": null,
   "metadata": {},
   "outputs": [],
   "source": [
    "all_formatted[4]['headline']"
   ]
  },
  {
   "cell_type": "markdown",
   "metadata": {},
   "source": [
    "### Putting it all together: NY Times API Function\n",
    "Because the NYTimes API is consistently structured, we can build a function that does all of the work of the API call for us by providing a simple series of inputs. We can then call the function at any time by providing a keywords, start and end dates and Python will do all of the rest of the work.\n",
    "\n",
    "Specifically, we want a function that will:\n",
    "1. Build the url and send the API request to api.nytimes.com\n",
    "2. Pull down the json data, loop through multiple pages of results (so we can view more than ten articles)\n",
    "3. Run the whole thing on a timer so that you do *not* hit the API limit"
   ]
  },
  {
   "cell_type": "code",
   "execution_count": null,
   "metadata": {},
   "outputs": [],
   "source": [
    "### Get API data function\n",
    "\n",
    "def get_api_data(term, date_s, date_e):\n",
    "    # set base url\n",
    "    base_url=\"http://api.nytimes.com/svc/search/v2/articlesearch.json\"\n",
    "    key = \"\" #add your api key here\n",
    "    \n",
    "    # set search parameters\n",
    "    search_params = {\"q\":term,\n",
    "                     \"api-key\":key,\n",
    "                     \"begin_date\": str(date_s), \n",
    "                     \"end_date\":str(date_e)}\n",
    "\n",
    "    # make request\n",
    "    r = requests.get(base_url, params=search_params)\n",
    "\n",
    "    # convert to a dictionary\n",
    "    data=json.loads(r.text)\n",
    "    print(r.url)\n",
    "    print()\n",
    "    \n",
    "    # get number of hits\n",
    "    hits = data['response']['meta']['hits']\n",
    "    print(\"number of hits:\", str(hits))\n",
    "\n",
    "    # get number of pages\n",
    "    pages = int(math.ceil(hits/10))\n",
    "\n",
    "    # make an empty list where we'll hold all of our docs for every page\n",
    "    all_docs = [] \n",
    "\n",
    "    # now we're ready to loop through the pages\n",
    "    for i in range(pages):\n",
    "        print(\"collecting page\", str(i))\n",
    "        time.sleep(7)\n",
    "        # set the page parameter\n",
    "        search_params['page'] = i\n",
    "\n",
    "        # make request\n",
    "        r = requests.get(base_url, params=search_params)\n",
    "        \n",
    "        # get text and convert to a dictionary\n",
    "        data=json.loads(r.text)\n",
    "        \n",
    "        # get just the docs\n",
    "        docs = data['response']['docs']\n",
    "\n",
    "        # add those docs to the big list\n",
    "        all_docs = all_docs + docs\n",
    "        \n",
    "    return(all_docs)"
   ]
  },
  {
   "cell_type": "code",
   "execution_count": null,
   "metadata": {},
   "outputs": [],
   "source": [
    "all_north = get_api_data(\"north korea\", 20200401, 20200430) # add your search terms between quotes; dates must be in YYYYMMDD format"
   ]
  },
  {
   "cell_type": "code",
   "execution_count": null,
   "metadata": {},
   "outputs": [],
   "source": [
    "#how many results are there?\n",
    "len(all_north)"
   ]
  },
  {
   "cell_type": "code",
   "execution_count": null,
   "metadata": {},
   "outputs": [],
   "source": [
    "#all_north[1]"
   ]
  },
  {
   "cell_type": "markdown",
   "metadata": {},
   "source": [
    "Now let's format those articles using our old ```formatted_articles``` function!"
   ]
  },
  {
   "cell_type": "code",
   "execution_count": null,
   "metadata": {},
   "outputs": [],
   "source": [
    "formatted_articles = format_articles(all_north)"
   ]
  },
  {
   "cell_type": "code",
   "execution_count": null,
   "metadata": {},
   "outputs": [],
   "source": [
    "formatted_articles[0]"
   ]
  },
  {
   "cell_type": "markdown",
   "metadata": {},
   "source": [
    "### Save to JSON\n",
    "When you've collected a lot of data like this it can be helpful to save it for later use. Which format you want to use to save data in Python depends on the structure of the data, but common formats are CSVs, JSON, and pickle files. \n",
    "\n",
    "Since our formatted_articles object is a dictionary, let's save it to JSON. First we need to open a blank JSON file using a \"with open\" statement. We'll tell the open() function the name of the file and pass the 'w' parameter to say we want to write to the file. ('r' would be to read a file). fp will be the variable name for the file inside of the with statement. \n",
    "\n",
    "Then we'll use a json function called dump() to load in the formatted_articles list, and write it to the fp file. "
   ]
  },
  {
   "cell_type": "code",
   "execution_count": null,
   "metadata": {},
   "outputs": [],
   "source": [
    "with open('formatted_articles.json', 'w') as fp:\n",
    "    json.dump(formatted_articles, fp)"
   ]
  },
  {
   "cell_type": "markdown",
   "metadata": {},
   "source": [
    "Now that your data is saved you can quit Jupyter/Python and rest assured your data is available for later. The next time you start your work you can load up the JSON file by reading it ('r') and then saving the content via json.load() into a new variable. "
   ]
  },
  {
   "cell_type": "code",
   "execution_count": null,
   "metadata": {},
   "outputs": [],
   "source": [
    "with open('formatted_articles.json', 'r') as fp:\n",
    "    formatted_articles = json.load(fp)"
   ]
  },
  {
   "cell_type": "markdown",
   "metadata": {},
   "source": [
    "### Challenge\n",
    "Write a loop to print the headlines, urls, and dates for each article in your data.\n",
    "\n",
    "\n",
    "1. Within your formatted_articles list, each item is represented in a dictionary key:value pair. To display the value, use the syntax ```variable_name['key_name']``` \n",
    "2. A good way to start the loop would be: ```for article in formatted_articles:```\n",
    "3. It's helpful to display the article number as you print each article. You can use an iterator variable to do that, and use ```x += 1``` at the end of the loop to keep the iterator in line with the loop. (There's also a fucntion in Python called [enumerate()](https://www.w3schools.com/python/ref_func_enumerate.asp) that you could use instead of a manual iterator, if you want)\n",
    "4. Within ```print()``` you can call multiple variables using commas: ```print(variable_one, '\\n', variable_two['key_name'])```\n",
    " - Note that ```'\\n'``` will add a line break to the output, which can make things easier to read.\n"
   ]
  },
  {
   "cell_type": "code",
   "execution_count": null,
   "metadata": {},
   "outputs": [],
   "source": [
    "x = 0\n",
    "for article in formatted_articles:\n",
    "    print(x, article['headline'], '\\n', article['web_url'], '\\n', article['date'], '\\n')\n",
    "    x += 1"
   ]
  }
 ],
 "metadata": {
  "kernelspec": {
   "display_name": "Python 3",
   "language": "python",
   "name": "python3"
  },
  "language_info": {
   "codemirror_mode": {
    "name": "ipython",
    "version": 3
   },
   "file_extension": ".py",
   "mimetype": "text/x-python",
   "name": "python",
   "nbconvert_exporter": "python",
   "pygments_lexer": "ipython3",
   "version": "3.7.0"
  }
 },
 "nbformat": 4,
 "nbformat_minor": 2
}
